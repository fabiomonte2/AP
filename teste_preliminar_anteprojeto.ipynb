{
  "nbformat": 4,
  "nbformat_minor": 0,
  "metadata": {
    "colab": {
      "name": "teste_preliminar_anteprojeto.ipynb",
      "provenance": [],
      "collapsed_sections": [],
      "authorship_tag": "ABX9TyOLnUyJ+uDgYn7dx/fKKssP",
      "include_colab_link": true
    },
    "kernelspec": {
      "name": "python3",
      "display_name": "Python 3"
    },
    "language_info": {
      "name": "python"
    }
  },
  "cells": [
    {
      "cell_type": "markdown",
      "metadata": {
        "id": "view-in-github",
        "colab_type": "text"
      },
      "source": [
        "<a href=\"https://colab.research.google.com/github/fabiomonte2/AP/blob/main/teste_preliminar_anteprojeto.ipynb\" target=\"_parent\"><img src=\"https://colab.research.google.com/assets/colab-badge.svg\" alt=\"Open In Colab\"/></a>"
      ]
    },
    {
      "cell_type": "code",
      "execution_count": 374,
      "metadata": {
        "id": "muplff6TQ6QJ"
      },
      "outputs": [],
      "source": [
        "import numpy as np\n",
        "\n",
        "import pandas as pd\n",
        "\n",
        "from pandas import Series, DataFrame\n",
        "\n",
        "from sklearn.model_selection import train_test_split"
      ]
    },
    {
      "cell_type": "markdown",
      "source": [
        "# Nova seção"
      ],
      "metadata": {
        "id": "CmFKWcdTiWZe"
      }
    },
    {
      "cell_type": "code",
      "source": [
        "data = pd.read_csv('vendas_homelist.csv')\n",
        "data = df.replace(r'\\W+', '', regex=True)\n"
      ],
      "metadata": {
        "id": "3hGN024nif_Y"
      },
      "execution_count": 375,
      "outputs": []
    },
    {
      "cell_type": "code",
      "source": [
        "data.head()"
      ],
      "metadata": {
        "colab": {
          "base_uri": "https://localhost:8080/",
          "height": 287
        },
        "id": "xpKmvwwObMGD",
        "outputId": "01d21edc-1f1d-4a09-ad10-3c750e66d92d"
      },
      "execution_count": 376,
      "outputs": [
        {
          "output_type": "execute_result",
          "data": {
            "text/html": [
              "\n",
              "  <div id=\"df-4e7f1345-a0a3-47e9-b5ad-af54c99afaf2\">\n",
              "    <div class=\"colab-df-container\">\n",
              "      <div>\n",
              "<style scoped>\n",
              "    .dataframe tbody tr th:only-of-type {\n",
              "        vertical-align: middle;\n",
              "    }\n",
              "\n",
              "    .dataframe tbody tr th {\n",
              "        vertical-align: top;\n",
              "    }\n",
              "\n",
              "    .dataframe thead th {\n",
              "        text-align: right;\n",
              "    }\n",
              "</style>\n",
              "<table border=\"1\" class=\"dataframe\">\n",
              "  <thead>\n",
              "    <tr style=\"text-align: right;\">\n",
              "      <th></th>\n",
              "      <th>ID</th>\n",
              "      <th>Numero_pedido</th>\n",
              "      <th>Data_compra</th>\n",
              "      <th>ID_contato</th>\n",
              "      <th>Nome_cliente</th>\n",
              "      <th>Cpf_Cnpj</th>\n",
              "      <th>Endereco</th>\n",
              "      <th>Bairro</th>\n",
              "      <th>Municipio</th>\n",
              "      <th>Cep</th>\n",
              "      <th>Estado</th>\n",
              "      <th>E-mail</th>\n",
              "      <th>Telefone</th>\n",
              "      <th>ID_produto</th>\n",
              "      <th>Descricao</th>\n",
              "      <th>Quantidade</th>\n",
              "      <th>Valor_uni</th>\n",
              "      <th>Desconto item</th>\n",
              "      <th>Preco_Total</th>\n",
              "      <th>Codigo_produto</th>\n",
              "    </tr>\n",
              "  </thead>\n",
              "  <tbody>\n",
              "    <tr>\n",
              "      <th>0</th>\n",
              "      <td>14654545550</td>\n",
              "      <td>10027</td>\n",
              "      <td>9202021</td>\n",
              "      <td>14514457733</td>\n",
              "      <td>Fernandazani</td>\n",
              "      <td>11253265739</td>\n",
              "      <td>RuaProfessorBelmiroSiqueira85BairroEnseadadoSu...</td>\n",
              "      <td>EnseadadoSua</td>\n",
              "      <td>Vitória</td>\n",
              "      <td>29050580</td>\n",
              "      <td>ES</td>\n",
              "      <td>fernandinhavrhotmailcom</td>\n",
              "      <td>27998733822</td>\n",
              "      <td>14358672115</td>\n",
              "      <td>GuardanapoSantepel24x22cm50Unidades</td>\n",
              "      <td>1</td>\n",
              "      <td>R229</td>\n",
              "      <td>0</td>\n",
              "      <td>229</td>\n",
              "      <td>439</td>\n",
              "    </tr>\n",
              "    <tr>\n",
              "      <th>1</th>\n",
              "      <td>14654545550</td>\n",
              "      <td>10027</td>\n",
              "      <td>9202021</td>\n",
              "      <td>14514457733</td>\n",
              "      <td>Fernandazani</td>\n",
              "      <td>11253265739</td>\n",
              "      <td>RuaProfessorBelmiroSiqueira85BairroEnseadadoSu...</td>\n",
              "      <td>EnseadadoSua</td>\n",
              "      <td>Vitória</td>\n",
              "      <td>29050580</td>\n",
              "      <td>ES</td>\n",
              "      <td>fernandinhavrhotmailcom</td>\n",
              "      <td>27998733822</td>\n",
              "      <td>14358662976</td>\n",
              "      <td>ArrozCalafateIntegral1kg</td>\n",
              "      <td>1</td>\n",
              "      <td>R877</td>\n",
              "      <td>0</td>\n",
              "      <td>877</td>\n",
              "      <td>84</td>\n",
              "    </tr>\n",
              "    <tr>\n",
              "      <th>2</th>\n",
              "      <td>14654545550</td>\n",
              "      <td>10027</td>\n",
              "      <td>9202021</td>\n",
              "      <td>14514457733</td>\n",
              "      <td>Fernandazani</td>\n",
              "      <td>11253265739</td>\n",
              "      <td>RuaProfessorBelmiroSiqueira85BairroEnseadadoSu...</td>\n",
              "      <td>EnseadadoSua</td>\n",
              "      <td>Vitória</td>\n",
              "      <td>29050580</td>\n",
              "      <td>ES</td>\n",
              "      <td>fernandinhavrhotmailcom</td>\n",
              "      <td>27998733822</td>\n",
              "      <td>14358670009</td>\n",
              "      <td>FeijãoPretoCombrasilTipo11kg</td>\n",
              "      <td>1</td>\n",
              "      <td>R962</td>\n",
              "      <td>0</td>\n",
              "      <td>962</td>\n",
              "      <td>368</td>\n",
              "    </tr>\n",
              "    <tr>\n",
              "      <th>3</th>\n",
              "      <td>14654545550</td>\n",
              "      <td>10027</td>\n",
              "      <td>9202021</td>\n",
              "      <td>14514457733</td>\n",
              "      <td>Fernandazani</td>\n",
              "      <td>11253265739</td>\n",
              "      <td>RuaProfessorBelmiroSiqueira85BairroEnseadadoSu...</td>\n",
              "      <td>EnseadadoSua</td>\n",
              "      <td>Vitória</td>\n",
              "      <td>29050580</td>\n",
              "      <td>ES</td>\n",
              "      <td>fernandinhavrhotmailcom</td>\n",
              "      <td>27998733822</td>\n",
              "      <td>14358684476</td>\n",
              "      <td>PalmitoRioPretoInteiro300g</td>\n",
              "      <td>1</td>\n",
              "      <td>R1739</td>\n",
              "      <td>0</td>\n",
              "      <td>1739</td>\n",
              "      <td>853</td>\n",
              "    </tr>\n",
              "    <tr>\n",
              "      <th>4</th>\n",
              "      <td>14654545550</td>\n",
              "      <td>10027</td>\n",
              "      <td>9202021</td>\n",
              "      <td>14514457733</td>\n",
              "      <td>Fernandazani</td>\n",
              "      <td>11253265739</td>\n",
              "      <td>RuaProfessorBelmiroSiqueira85BairroEnseadadoSu...</td>\n",
              "      <td>EnseadadoSua</td>\n",
              "      <td>Vitória</td>\n",
              "      <td>29050580</td>\n",
              "      <td>ES</td>\n",
              "      <td>fernandinhavrhotmailcom</td>\n",
              "      <td>27998733822</td>\n",
              "      <td>14358676128</td>\n",
              "      <td>LeiteIntegralNaturalMilkItambé1L</td>\n",
              "      <td>2</td>\n",
              "      <td>R729</td>\n",
              "      <td>0</td>\n",
              "      <td>1458</td>\n",
              "      <td>573</td>\n",
              "    </tr>\n",
              "  </tbody>\n",
              "</table>\n",
              "</div>\n",
              "      <button class=\"colab-df-convert\" onclick=\"convertToInteractive('df-4e7f1345-a0a3-47e9-b5ad-af54c99afaf2')\"\n",
              "              title=\"Convert this dataframe to an interactive table.\"\n",
              "              style=\"display:none;\">\n",
              "        \n",
              "  <svg xmlns=\"http://www.w3.org/2000/svg\" height=\"24px\"viewBox=\"0 0 24 24\"\n",
              "       width=\"24px\">\n",
              "    <path d=\"M0 0h24v24H0V0z\" fill=\"none\"/>\n",
              "    <path d=\"M18.56 5.44l.94 2.06.94-2.06 2.06-.94-2.06-.94-.94-2.06-.94 2.06-2.06.94zm-11 1L8.5 8.5l.94-2.06 2.06-.94-2.06-.94L8.5 2.5l-.94 2.06-2.06.94zm10 10l.94 2.06.94-2.06 2.06-.94-2.06-.94-.94-2.06-.94 2.06-2.06.94z\"/><path d=\"M17.41 7.96l-1.37-1.37c-.4-.4-.92-.59-1.43-.59-.52 0-1.04.2-1.43.59L10.3 9.45l-7.72 7.72c-.78.78-.78 2.05 0 2.83L4 21.41c.39.39.9.59 1.41.59.51 0 1.02-.2 1.41-.59l7.78-7.78 2.81-2.81c.8-.78.8-2.07 0-2.86zM5.41 20L4 18.59l7.72-7.72 1.47 1.35L5.41 20z\"/>\n",
              "  </svg>\n",
              "      </button>\n",
              "      \n",
              "  <style>\n",
              "    .colab-df-container {\n",
              "      display:flex;\n",
              "      flex-wrap:wrap;\n",
              "      gap: 12px;\n",
              "    }\n",
              "\n",
              "    .colab-df-convert {\n",
              "      background-color: #E8F0FE;\n",
              "      border: none;\n",
              "      border-radius: 50%;\n",
              "      cursor: pointer;\n",
              "      display: none;\n",
              "      fill: #1967D2;\n",
              "      height: 32px;\n",
              "      padding: 0 0 0 0;\n",
              "      width: 32px;\n",
              "    }\n",
              "\n",
              "    .colab-df-convert:hover {\n",
              "      background-color: #E2EBFA;\n",
              "      box-shadow: 0px 1px 2px rgba(60, 64, 67, 0.3), 0px 1px 3px 1px rgba(60, 64, 67, 0.15);\n",
              "      fill: #174EA6;\n",
              "    }\n",
              "\n",
              "    [theme=dark] .colab-df-convert {\n",
              "      background-color: #3B4455;\n",
              "      fill: #D2E3FC;\n",
              "    }\n",
              "\n",
              "    [theme=dark] .colab-df-convert:hover {\n",
              "      background-color: #434B5C;\n",
              "      box-shadow: 0px 1px 3px 1px rgba(0, 0, 0, 0.15);\n",
              "      filter: drop-shadow(0px 1px 2px rgba(0, 0, 0, 0.3));\n",
              "      fill: #FFFFFF;\n",
              "    }\n",
              "  </style>\n",
              "\n",
              "      <script>\n",
              "        const buttonEl =\n",
              "          document.querySelector('#df-4e7f1345-a0a3-47e9-b5ad-af54c99afaf2 button.colab-df-convert');\n",
              "        buttonEl.style.display =\n",
              "          google.colab.kernel.accessAllowed ? 'block' : 'none';\n",
              "\n",
              "        async function convertToInteractive(key) {\n",
              "          const element = document.querySelector('#df-4e7f1345-a0a3-47e9-b5ad-af54c99afaf2');\n",
              "          const dataTable =\n",
              "            await google.colab.kernel.invokeFunction('convertToInteractive',\n",
              "                                                     [key], {});\n",
              "          if (!dataTable) return;\n",
              "\n",
              "          const docLinkHtml = 'Like what you see? Visit the ' +\n",
              "            '<a target=\"_blank\" href=https://colab.research.google.com/notebooks/data_table.ipynb>data table notebook</a>'\n",
              "            + ' to learn more about interactive tables.';\n",
              "          element.innerHTML = '';\n",
              "          dataTable['output_type'] = 'display_data';\n",
              "          await google.colab.output.renderOutput(dataTable, element);\n",
              "          const docLink = document.createElement('div');\n",
              "          docLink.innerHTML = docLinkHtml;\n",
              "          element.appendChild(docLink);\n",
              "        }\n",
              "      </script>\n",
              "    </div>\n",
              "  </div>\n",
              "  "
            ],
            "text/plain": [
              "            ID  Numero_pedido  ... Preco_Total  Codigo_produto\n",
              "0  14654545550          10027  ...         229             439\n",
              "1  14654545550          10027  ...         877              84\n",
              "2  14654545550          10027  ...         962             368\n",
              "3  14654545550          10027  ...        1739             853\n",
              "4  14654545550          10027  ...        1458             573\n",
              "\n",
              "[5 rows x 20 columns]"
            ]
          },
          "metadata": {},
          "execution_count": 376
        }
      ]
    },
    {
      "cell_type": "code",
      "source": [
        "import pandas as pd\n",
        "data = pd.read_csv('vendas_homelist.csv')\n",
        "data.dtypes"
      ],
      "metadata": {
        "colab": {
          "base_uri": "https://localhost:8080/"
        },
        "id": "wZrPVUJaJ9C8",
        "outputId": "6c125d2e-405e-44bc-eaea-6a8e27c3e583"
      },
      "execution_count": 377,
      "outputs": [
        {
          "output_type": "execute_result",
          "data": {
            "text/plain": [
              "ID                 int64\n",
              "Numero_pedido      int64\n",
              "Data_compra       object\n",
              "ID_contato         int64\n",
              "Nome_cliente      object\n",
              "Cpf_Cnpj          object\n",
              "Endereco          object\n",
              "Bairro            object\n",
              "Municipio         object\n",
              "Cep               object\n",
              "Estado            object\n",
              "E-mail            object\n",
              "Telefone          object\n",
              "ID_produto         int64\n",
              "Descricao         object\n",
              "Quantidade        object\n",
              "Valor_uni         object\n",
              "Desconto item     object\n",
              "Preco_Total       object\n",
              "Codigo_produto     int64\n",
              "dtype: object"
            ]
          },
          "metadata": {},
          "execution_count": 377
        }
      ]
    },
    {
      "cell_type": "code",
      "source": [
        "y = data['ID_produto']\n",
        "y"
      ],
      "metadata": {
        "colab": {
          "base_uri": "https://localhost:8080/"
        },
        "id": "UGm-vYeBRThg",
        "outputId": "70c5d6d1-d0c4-417e-99dd-101b2b69d1a9"
      },
      "execution_count": 378,
      "outputs": [
        {
          "output_type": "execute_result",
          "data": {
            "text/plain": [
              "0      14358672115\n",
              "1      14358662976\n",
              "2      14358670009\n",
              "3      14358684476\n",
              "4      14358676128\n",
              "          ...     \n",
              "967    14358698489\n",
              "968    14358669855\n",
              "969    14358681692\n",
              "970    14358665341\n",
              "971    14358698948\n",
              "Name: ID_produto, Length: 972, dtype: int64"
            ]
          },
          "metadata": {},
          "execution_count": 378
        }
      ]
    },
    {
      "cell_type": "code",
      "source": [
        "X = data.drop('ID_produto',axis=1)\n",
        "X.columns"
      ],
      "metadata": {
        "colab": {
          "base_uri": "https://localhost:8080/"
        },
        "id": "OMmlmjtNRnUz",
        "outputId": "11dfc769-354d-46e3-dfef-6888dbdc8348"
      },
      "execution_count": 379,
      "outputs": [
        {
          "output_type": "execute_result",
          "data": {
            "text/plain": [
              "Index(['ID', 'Numero_pedido', 'Data_compra', 'ID_contato', 'Nome_cliente',\n",
              "       'Cpf_Cnpj', 'Endereco', 'Bairro', 'Municipio', 'Cep', 'Estado',\n",
              "       'E-mail', 'Telefone', 'Descricao', 'Quantidade', 'Valor_uni',\n",
              "       'Desconto item', 'Preco_Total', 'Codigo_produto'],\n",
              "      dtype='object')"
            ]
          },
          "metadata": {},
          "execution_count": 379
        }
      ]
    },
    {
      "cell_type": "code",
      "source": [
        "for column in X.columns:\n",
        "  print(f\"{column:>12}: {len(set(X[column])):4} {X[column].dtype}\")"
      ],
      "metadata": {
        "colab": {
          "base_uri": "https://localhost:8080/"
        },
        "id": "mCKO5L8SRxXk",
        "outputId": "2e429d14-e7b3-4f0a-8fde-c8390c0527a7"
      },
      "execution_count": 380,
      "outputs": [
        {
          "output_type": "stream",
          "name": "stdout",
          "text": [
            "          ID:   55 int64\n",
            "Numero_pedido:   55 int64\n",
            " Data_compra:   21 object\n",
            "  ID_contato:    8 int64\n",
            "Nome_cliente:    8 object\n",
            "    Cpf_Cnpj:    8 object\n",
            "    Endereco:    8 object\n",
            "      Bairro:    8 object\n",
            "   Municipio:    2 object\n",
            "         Cep:    8 object\n",
            "      Estado:    1 object\n",
            "      E-mail:    8 object\n",
            "    Telefone:    8 object\n",
            "   Descricao:  257 object\n",
            "  Quantidade:  162 object\n",
            "   Valor_uni:  275 object\n",
            "Desconto item:    2 object\n",
            " Preco_Total:  447 object\n",
            "Codigo_produto:  254 int64\n"
          ]
        }
      ]
    },
    {
      "cell_type": "code",
      "source": [
        "indesejadas = ['Preco_Total']\n",
        "Xdrop = X.drop(indesejadas,axis=1)\n",
        "Xdrop.columns"
      ],
      "metadata": {
        "colab": {
          "base_uri": "https://localhost:8080/"
        },
        "id": "SwmYwbkL0znS",
        "outputId": "1fa2ece7-dc83-4206-a088-f57b0ee14e55"
      },
      "execution_count": 381,
      "outputs": [
        {
          "output_type": "execute_result",
          "data": {
            "text/plain": [
              "Index(['ID', 'Numero_pedido', 'Data_compra', 'ID_contato', 'Nome_cliente',\n",
              "       'Cpf_Cnpj', 'Endereco', 'Bairro', 'Municipio', 'Cep', 'Estado',\n",
              "       'E-mail', 'Telefone', 'Descricao', 'Quantidade', 'Valor_uni',\n",
              "       'Desconto item', 'Codigo_produto'],\n",
              "      dtype='object')"
            ]
          },
          "metadata": {},
          "execution_count": 381
        }
      ]
    },
    {
      "cell_type": "code",
      "source": [
        "Xnum = Xdrop.select_dtypes('number')\n",
        "Xnum.columns"
      ],
      "metadata": {
        "colab": {
          "base_uri": "https://localhost:8080/"
        },
        "id": "J5uauKVJR6IT",
        "outputId": "07bfc5d2-5931-4e04-f1b3-3a5cbf615c60"
      },
      "execution_count": 382,
      "outputs": [
        {
          "output_type": "execute_result",
          "data": {
            "text/plain": [
              "Index(['ID', 'Numero_pedido', 'ID_contato', 'Codigo_produto'], dtype='object')"
            ]
          },
          "metadata": {},
          "execution_count": 382
        }
      ]
    },
    {
      "cell_type": "code",
      "source": [
        "from sklearn.impute import SimpleImputer\n",
        "imputer = SimpleImputer(strategy='median') \n",
        "XnumLimpo = imputer.fit_transform(Xnum)\n",
        "XnumLimpo"
      ],
      "metadata": {
        "colab": {
          "base_uri": "https://localhost:8080/"
        },
        "id": "PJU9hHyfTToz",
        "outputId": "865d5306-9e37-4162-b352-5f9384aef185"
      },
      "execution_count": 383,
      "outputs": [
        {
          "output_type": "execute_result",
          "data": {
            "text/plain": [
              "array([[1.46545456e+10, 1.00270000e+04, 1.45144577e+10, 4.39000000e+02],\n",
              "       [1.46545456e+10, 1.00270000e+04, 1.45144577e+10, 8.40000000e+01],\n",
              "       [1.46545456e+10, 1.00270000e+04, 1.45144577e+10, 3.68000000e+02],\n",
              "       ...,\n",
              "       [1.56534553e+10, 1.00810000e+04, 1.45144724e+10, 7.87000000e+02],\n",
              "       [1.56534553e+10, 1.00810000e+04, 1.45144724e+10, 1.85000000e+02],\n",
              "       [1.56534553e+10, 1.00810000e+04, 1.45144724e+10, 1.26100000e+03]])"
            ]
          },
          "metadata": {},
          "execution_count": 383
        }
      ]
    },
    {
      "cell_type": "code",
      "source": [
        "for column in Xnum.columns:\n",
        "  print(f\"{column:>12}: {sum(Xnum[column].isnull())}\")"
      ],
      "metadata": {
        "colab": {
          "base_uri": "https://localhost:8080/"
        },
        "id": "7aXd2dc-SfK1",
        "outputId": "1a79c523-0fef-4836-ee2c-5af2a68866fd"
      },
      "execution_count": 384,
      "outputs": [
        {
          "output_type": "stream",
          "name": "stdout",
          "text": [
            "          ID: 0\n",
            "Numero_pedido: 0\n",
            "  ID_contato: 0\n",
            "Codigo_produto: 0\n"
          ]
        }
      ]
    },
    {
      "cell_type": "code",
      "source": [
        "Xcat = Xdrop.select_dtypes('object')\n",
        "Xcat.columns"
      ],
      "metadata": {
        "colab": {
          "base_uri": "https://localhost:8080/"
        },
        "id": "DX0Wm5TzSk5P",
        "outputId": "5fd51b05-99d7-42ac-ef83-6fc3e95cce39"
      },
      "execution_count": 385,
      "outputs": [
        {
          "output_type": "execute_result",
          "data": {
            "text/plain": [
              "Index(['Data_compra', 'Nome_cliente', 'Cpf_Cnpj', 'Endereco', 'Bairro',\n",
              "       'Municipio', 'Cep', 'Estado', 'E-mail', 'Telefone', 'Descricao',\n",
              "       'Quantidade', 'Valor_uni', 'Desconto item'],\n",
              "      dtype='object')"
            ]
          },
          "metadata": {},
          "execution_count": 385
        }
      ]
    },
    {
      "cell_type": "code",
      "source": [
        "for column in Xcat.columns:\n",
        "  print(f\"{column:>12}: {sum(Xcat[column].isnull())}\")"
      ],
      "metadata": {
        "colab": {
          "base_uri": "https://localhost:8080/"
        },
        "id": "9XYWzJYESvrd",
        "outputId": "56771e15-8357-464d-b81a-ff673b5145d4"
      },
      "execution_count": 386,
      "outputs": [
        {
          "output_type": "stream",
          "name": "stdout",
          "text": [
            " Data_compra: 0\n",
            "Nome_cliente: 0\n",
            "    Cpf_Cnpj: 0\n",
            "    Endereco: 0\n",
            "      Bairro: 0\n",
            "   Municipio: 0\n",
            "         Cep: 0\n",
            "      Estado: 0\n",
            "      E-mail: 0\n",
            "    Telefone: 0\n",
            "   Descricao: 0\n",
            "  Quantidade: 0\n",
            "   Valor_uni: 0\n",
            "Desconto item: 0\n"
          ]
        }
      ]
    },
    {
      "cell_type": "code",
      "source": [
        "from sklearn.impute import SimpleImputer\n",
        "imputer = SimpleImputer(strategy='most_frequent')\n",
        "XcatLimpo = imputer.fit_transform(Xcat)\n",
        "XcatLimpo"
      ],
      "metadata": {
        "colab": {
          "base_uri": "https://localhost:8080/"
        },
        "id": "oMAcFkuUTfbX",
        "outputId": "31a026da-8645-45c2-ceea-006aed983bf4"
      },
      "execution_count": 387,
      "outputs": [
        {
          "output_type": "execute_result",
          "data": {
            "text/plain": [
              "array([['9/20/2021', 'Fernanda zani', '112.532.657-39', ..., '1',\n",
              "        'R$ 2,29', '0'],\n",
              "       ['9/20/2021', 'Fernanda zani', '112.532.657-39', ..., '1',\n",
              "        'R$ 8,77', '0'],\n",
              "       ['9/20/2021', 'Fernanda zani', '112.532.657-39', ..., '1',\n",
              "        'R$ 9,62', '0'],\n",
              "       ...,\n",
              "       ['12/22/2021', 'Ana Carolina Vieira da rosa Andreao',\n",
              "        '112.532.697-26', ..., '1', 'R$ 3,19', '0'],\n",
              "       ['12/22/2021', 'Ana Carolina Vieira da rosa Andreao',\n",
              "        '112.532.697-26', ..., '1', 'R$ 2,89', '0'],\n",
              "       ['12/22/2021', 'Ana Carolina Vieira da rosa Andreao',\n",
              "        '112.532.697-26', ..., '1', 'R$ 9,43', '0']], dtype=object)"
            ]
          },
          "metadata": {},
          "execution_count": 387
        }
      ]
    },
    {
      "cell_type": "code",
      "source": [
        "from sklearn.preprocessing import OneHotEncoder\n",
        "encoder = OneHotEncoder()\n",
        "XcatHot = encoder.fit_transform(XcatLimpo)\n",
        "XcatHot"
      ],
      "metadata": {
        "colab": {
          "base_uri": "https://localhost:8080/"
        },
        "id": "j1usTCCKS3Jt",
        "outputId": "59586657-05a1-4e46-f088-65a4e8a70280"
      },
      "execution_count": 388,
      "outputs": [
        {
          "output_type": "execute_result",
          "data": {
            "text/plain": [
              "<972x776 sparse matrix of type '<class 'numpy.float64'>'\n",
              "\twith 13608 stored elements in Compressed Sparse Row format>"
            ]
          },
          "metadata": {},
          "execution_count": 388
        }
      ]
    },
    {
      "cell_type": "code",
      "source": [
        "import numpy as np \n",
        "Xtratado = np.c_[XnumLimpo,XcatHot.toarray()]\n",
        "Xtratado.shape"
      ],
      "metadata": {
        "colab": {
          "base_uri": "https://localhost:8080/"
        },
        "id": "U7m7eZbCTlek",
        "outputId": "7972048d-fd8f-42d1-e3f6-0fd3946cd9c4"
      },
      "execution_count": 389,
      "outputs": [
        {
          "output_type": "execute_result",
          "data": {
            "text/plain": [
              "(972, 780)"
            ]
          },
          "metadata": {},
          "execution_count": 389
        }
      ]
    },
    {
      "cell_type": "code",
      "source": [
        "import pandas as pd\n",
        "train = pd.read_csv('vendas_homelist.csv')\n",
        "test = pd.read_csv('test.csv')\n",
        "test = df.replace(r'\\W+', '', regex=True)\n",
        "train.columns.isin(test.columns)"
      ],
      "metadata": {
        "colab": {
          "base_uri": "https://localhost:8080/"
        },
        "id": "PZLNS4mkTqit",
        "outputId": "adb0e3d3-f2e1-4ff6-ddbb-283a4860b4c9"
      },
      "execution_count": 390,
      "outputs": [
        {
          "output_type": "execute_result",
          "data": {
            "text/plain": [
              "array([ True,  True,  True,  True,  True,  True,  True,  True,  True,\n",
              "        True,  True,  True,  True,  True,  True,  True,  True,  True,\n",
              "        True,  True])"
            ]
          },
          "metadata": {},
          "execution_count": 390
        }
      ]
    },
    {
      "cell_type": "code",
      "source": [
        "# Remover as caracteristicas indesejáveis\n",
        "from sklearn.base import BaseEstimator, TransformerMixin\n",
        "class AtributosDesejados(BaseEstimator, TransformerMixin):\n",
        "  def fit(self, X, y=None):\n",
        "    self.colunasIndesejadas = ['Preco_Total']\n",
        "    return self\n",
        "  def transform(self, X, y=None):\n",
        "    return X.drop(self.colunasIndesejadas,axis=1)\n",
        "\n",
        "atributosDesejados = AtributosDesejados()\n",
        "Xdrop = atributosDesejados.fit_transform(X)\n",
        "Xdrop.columns"
      ],
      "metadata": {
        "colab": {
          "base_uri": "https://localhost:8080/"
        },
        "id": "D-h03W8J4ZaY",
        "outputId": "b3cb0a25-9616-49c9-d5d3-c4ae837dd8d2"
      },
      "execution_count": 391,
      "outputs": [
        {
          "output_type": "execute_result",
          "data": {
            "text/plain": [
              "Index(['ID', 'Numero_pedido', 'Data_compra', 'ID_contato', 'Nome_cliente',\n",
              "       'Cpf_Cnpj', 'Endereco', 'Bairro', 'Municipio', 'Cep', 'Estado',\n",
              "       'E-mail', 'Telefone', 'Descricao', 'Quantidade', 'Valor_uni',\n",
              "       'Desconto item', 'Codigo_produto'],\n",
              "      dtype='object')"
            ]
          },
          "metadata": {},
          "execution_count": 391
        }
      ]
    },
    {
      "cell_type": "code",
      "source": [
        "from sklearn.base import BaseEstimator, TransformerMixin\n",
        "class AtributosNumericos(BaseEstimator, TransformerMixin):\n",
        "  def fit(self, X, y=None):\n",
        "    self.colunasNumericas = X.select_dtypes(include='number').columns\n",
        "    return self\n",
        "  def transform(self, X, y=None):\n",
        "    return X[self.colunasNumericas]\n",
        "\n",
        "atributosNumericos = AtributosNumericos()\n",
        "Xnum = atributosNumericos.fit_transform(Xdrop)\n",
        "Xnum.columns"
      ],
      "metadata": {
        "colab": {
          "base_uri": "https://localhost:8080/"
        },
        "id": "v0k0g9aA4__W",
        "outputId": "5ada0611-5a20-40a0-afd6-eac859621828"
      },
      "execution_count": 392,
      "outputs": [
        {
          "output_type": "execute_result",
          "data": {
            "text/plain": [
              "Index(['ID', 'Numero_pedido', 'ID_contato', 'Codigo_produto'], dtype='object')"
            ]
          },
          "metadata": {},
          "execution_count": 392
        }
      ]
    },
    {
      "cell_type": "code",
      "source": [
        "from sklearn.pipeline import Pipeline\n",
        "from sklearn.impute import SimpleImputer\n",
        "from sklearn.preprocessing import StandardScaler\n",
        "\n",
        "pipenum = Pipeline([\n",
        "                ('atributos_numericos', AtributosNumericos()),\n",
        "                ('imputer', SimpleImputer(strategy='median')),\n",
        "                ('sacaler', StandardScaler())\n",
        "])\n",
        "\n",
        "XnumLimpo = pipenum.fit_transform(Xnum)\n",
        "XnumLimpo"
      ],
      "metadata": {
        "colab": {
          "base_uri": "https://localhost:8080/"
        },
        "id": "eqWDEJaOU-B5",
        "outputId": "c3666232-03fc-4abf-dfae-79afa0f3d59d"
      },
      "execution_count": 393,
      "outputs": [
        {
          "output_type": "execute_result",
          "data": {
            "text/plain": [
              "array([[-1.95556092, -1.74286421, -0.67202576, -0.44356032],\n",
              "       [-1.95556092, -1.74286421, -0.67202576, -1.30585614],\n",
              "       [-1.95556092, -1.74286421, -0.67202576, -0.61601948],\n",
              "       ...,\n",
              "       [ 1.49598167,  1.61565905, -0.67193891,  0.4017325 ],\n",
              "       [ 1.49598167,  1.61565905, -0.67193891, -1.06052691],\n",
              "       [ 1.49598167,  1.61565905, -0.67193891,  1.5530796 ]])"
            ]
          },
          "metadata": {},
          "execution_count": 393
        }
      ]
    },
    {
      "cell_type": "code",
      "source": [
        "from sklearn.base import BaseEstimator, TransformerMixin\n",
        "class AtributosCategoricos(BaseEstimator, TransformerMixin):\n",
        "  def fit(self, X, y=None):\n",
        "    self.colunasCategoricas = X.select_dtypes(include='object').columns\n",
        "    return self\n",
        "  def transform(self, X, y=None):\n",
        "    return X[self.colunasCategoricas]\n",
        "\n",
        "atributosCategoricos = AtributosCategoricos()\n",
        "Xcat = atributosCategoricos.fit_transform(Xdrop)\n",
        "Xcat.columns"
      ],
      "metadata": {
        "colab": {
          "base_uri": "https://localhost:8080/"
        },
        "id": "3JKNby3bVEgA",
        "outputId": "120aa543-208d-4b44-c524-377ffd8fadc4"
      },
      "execution_count": 394,
      "outputs": [
        {
          "output_type": "execute_result",
          "data": {
            "text/plain": [
              "Index(['Data_compra', 'Nome_cliente', 'Cpf_Cnpj', 'Endereco', 'Bairro',\n",
              "       'Municipio', 'Cep', 'Estado', 'E-mail', 'Telefone', 'Descricao',\n",
              "       'Quantidade', 'Valor_uni', 'Desconto item'],\n",
              "      dtype='object')"
            ]
          },
          "metadata": {},
          "execution_count": 394
        }
      ]
    },
    {
      "cell_type": "code",
      "source": [
        "from sklearn.pipeline import Pipeline\n",
        "from sklearn.impute import SimpleImputer\n",
        "from sklearn.preprocessing import OneHotEncoder\n",
        "\n",
        "pipecat = Pipeline([\n",
        "                ('atributos_categoricos', AtributosCategoricos()),\n",
        "                ('imputer', SimpleImputer(strategy='most_frequent')),\n",
        "                ('encoder', OneHotEncoder(handle_unknown='ignore'))\n",
        "])\n",
        "\n",
        "XcatLimpo = pipenum.fit_transform(Xdrop)\n",
        "XcatLimpo"
      ],
      "metadata": {
        "colab": {
          "base_uri": "https://localhost:8080/"
        },
        "id": "pzfg_7QWVM5o",
        "outputId": "9bd4b0eb-1b7c-4c00-948c-5b1072f3549a"
      },
      "execution_count": 395,
      "outputs": [
        {
          "output_type": "execute_result",
          "data": {
            "text/plain": [
              "array([[-1.95556092, -1.74286421, -0.67202576, -0.44356032],\n",
              "       [-1.95556092, -1.74286421, -0.67202576, -1.30585614],\n",
              "       [-1.95556092, -1.74286421, -0.67202576, -0.61601948],\n",
              "       ...,\n",
              "       [ 1.49598167,  1.61565905, -0.67193891,  0.4017325 ],\n",
              "       [ 1.49598167,  1.61565905, -0.67193891, -1.06052691],\n",
              "       [ 1.49598167,  1.61565905, -0.67193891,  1.5530796 ]])"
            ]
          },
          "metadata": {},
          "execution_count": 395
        }
      ]
    },
    {
      "cell_type": "code",
      "source": [
        "from sklearn.pipeline import FeatureUnion\n",
        "unecaracteristicas = FeatureUnion([\n",
        "      ('pipenum', pipenum),\n",
        "      ('pipecat', pipecat)\n",
        "])\n",
        "\n",
        "Xtratado = unecaracteristicas.fit_transform(X)\n",
        "Xtratado"
      ],
      "metadata": {
        "colab": {
          "base_uri": "https://localhost:8080/"
        },
        "id": "ZJdfZAz1VxiH",
        "outputId": "1771ddd8-8d87-4dd9-893a-306f42bb7b36"
      },
      "execution_count": 396,
      "outputs": [
        {
          "output_type": "execute_result",
          "data": {
            "text/plain": [
              "<972x1227 sparse matrix of type '<class 'numpy.float64'>'\n",
              "\twith 18468 stored elements in Compressed Sparse Row format>"
            ]
          },
          "metadata": {},
          "execution_count": 396
        }
      ]
    },
    {
      "cell_type": "code",
      "source": [
        "from sklearn.pipeline import Pipeline\n",
        "\n",
        "preproc = Pipeline([\n",
        "        ('unecaracteristicas', unecaracteristicas)\n",
        "])\n",
        "\n",
        "Xtratado = preproc.fit_transform(Xdrop)\n",
        "Xtratado"
      ],
      "metadata": {
        "colab": {
          "base_uri": "https://localhost:8080/"
        },
        "id": "OLbbSSlmV8wt",
        "outputId": "db3a56cc-a0d9-4b68-d88e-bb9cee4f2540"
      },
      "execution_count": 397,
      "outputs": [
        {
          "output_type": "execute_result",
          "data": {
            "text/plain": [
              "<972x780 sparse matrix of type '<class 'numpy.float64'>'\n",
              "\twith 17496 stored elements in Compressed Sparse Row format>"
            ]
          },
          "metadata": {},
          "execution_count": 397
        }
      ]
    },
    {
      "cell_type": "code",
      "source": [
        "# testando o modelo com o algoritmo de arvore de decisão\n",
        "from sklearn.tree import DecisionTreeClassifier\n",
        "\n",
        "pipetotal = Pipeline([\n",
        "        ('preproc', preproc),\n",
        "        ('arvore', DecisionTreeClassifier())             \n",
        "])\n",
        "from sklearn.model_selection import cross_validate\n",
        "import numpy as np\n",
        "\n",
        "scores = cross_validate(pipetotal, X, y)\n",
        "scores, np.mean(scores['test_score'])\n",
        "\n",
        "from sklearn.model_selection import GridSearchCV\n",
        "parametros = {\n",
        "    'arvore__max_depth': [None] + list(range(1,20,2)),\n",
        "    'arvore__criterion': ['gini', 'entropy']\n",
        "    }\n",
        "modelo = GridSearchCV(pipetotal, param_grid=parametros)\n",
        "scores = cross_validate(pipetotal, X, y)\n",
        "scores, np.mean(scores['test_score'])\n",
        "\n",
        "\n"
      ],
      "metadata": {
        "colab": {
          "base_uri": "https://localhost:8080/"
        },
        "id": "_EJjfRUPWnVH",
        "outputId": "df0a52b1-e8a5-40ba-9250-b66b38f7aba3"
      },
      "execution_count": 398,
      "outputs": [
        {
          "output_type": "stream",
          "name": "stderr",
          "text": [
            "/usr/local/lib/python3.7/dist-packages/sklearn/model_selection/_split.py:680: UserWarning: The least populated class in y has only 1 members, which is less than n_splits=5.\n",
            "  UserWarning,\n",
            "/usr/local/lib/python3.7/dist-packages/sklearn/model_selection/_split.py:680: UserWarning: The least populated class in y has only 1 members, which is less than n_splits=5.\n",
            "  UserWarning,\n"
          ]
        },
        {
          "output_type": "execute_result",
          "data": {
            "text/plain": [
              "({'fit_time': array([0.15049791, 0.14759183, 0.14191914, 0.14601064, 0.14354491]),\n",
              "  'score_time': array([0.01182437, 0.01126838, 0.01157832, 0.01152563, 0.01347113]),\n",
              "  'test_score': array([0.78974359, 0.84615385, 0.83505155, 0.82474227, 0.84020619])},\n",
              " 0.8271794871794871)"
            ]
          },
          "metadata": {},
          "execution_count": 398
        }
      ]
    },
    {
      "cell_type": "code",
      "source": [
        "from sklearn.neighbors import KNeighborsClassifier\n",
        "\n",
        "pipetotal = Pipeline([\n",
        "        ('preproc', preproc),\n",
        "        ('knn', KNeighborsClassifier())             \n",
        "])\n",
        "from sklearn.model_selection import cross_validate\n",
        "import numpy as np\n",
        "\n",
        "scores = cross_validate(pipetotal, X, y)\n",
        "scores, np.mean(scores['test_score'])\n",
        "\n",
        "from sklearn.model_selection import GridSearchCV\n",
        "parametros = {\n",
        "    'knn__max_depth': [None] + list(range(1,20,2)),\n",
        "    'knn__criterion': ['gini', 'entropy']\n",
        "    }\n",
        "modelo = GridSearchCV(pipetotal, param_grid=parametros)\n",
        "scores = cross_validate(pipetotal, X, y)\n",
        "scores, np.mean(scores['test_score'])"
      ],
      "metadata": {
        "colab": {
          "base_uri": "https://localhost:8080/"
        },
        "id": "561bqTMTepGA",
        "outputId": "d0950afc-46d1-423b-ae33-573ad7ea5022"
      },
      "execution_count": 399,
      "outputs": [
        {
          "output_type": "stream",
          "name": "stderr",
          "text": [
            "/usr/local/lib/python3.7/dist-packages/sklearn/model_selection/_split.py:680: UserWarning: The least populated class in y has only 1 members, which is less than n_splits=5.\n",
            "  UserWarning,\n",
            "/usr/local/lib/python3.7/dist-packages/sklearn/model_selection/_split.py:680: UserWarning: The least populated class in y has only 1 members, which is less than n_splits=5.\n",
            "  UserWarning,\n"
          ]
        },
        {
          "output_type": "execute_result",
          "data": {
            "text/plain": [
              "({'fit_time': array([0.02469063, 0.02783918, 0.02402329, 0.03123355, 0.0237093 ]),\n",
              "  'score_time': array([0.02405167, 0.02404475, 0.02468157, 0.0271337 , 0.02571392]),\n",
              "  'test_score': array([0.35384615, 0.51794872, 0.53092784, 0.56185567, 0.45876289])},\n",
              " 0.48466825270948977)"
            ]
          },
          "metadata": {},
          "execution_count": 399
        }
      ]
    },
    {
      "cell_type": "code",
      "source": [
        "from sklearn.linear_model import Perceptron\n",
        "\n",
        "pipetotal = Pipeline([\n",
        "        ('preproc', preproc),\n",
        "        ('perceptron', Perceptron())             \n",
        "])\n",
        "from sklearn.model_selection import cross_validate\n",
        "import numpy as np\n",
        "\n",
        "scores = cross_validate(pipetotal, X, y)\n",
        "scores, np.mean(scores['test_score'])\n",
        "\n",
        "from sklearn.model_selection import GridSearchCV\n",
        "parametros = {\n",
        "    'perceptron__max_depth': [None] + list(range(1,20,2)),\n",
        "    'perceptron__criterion': ['gini', 'entropy']\n",
        "    }\n",
        "modelo = GridSearchCV(pipetotal, param_grid=parametros)\n",
        "scores = cross_validate(pipetotal, X, y)\n",
        "scores, np.mean(scores['test_score'])"
      ],
      "metadata": {
        "colab": {
          "base_uri": "https://localhost:8080/"
        },
        "id": "pLNoTneffC8b",
        "outputId": "e71861a5-3f9e-456e-b520-de177ac55d85"
      },
      "execution_count": 400,
      "outputs": [
        {
          "output_type": "stream",
          "name": "stderr",
          "text": [
            "/usr/local/lib/python3.7/dist-packages/sklearn/model_selection/_split.py:680: UserWarning: The least populated class in y has only 1 members, which is less than n_splits=5.\n",
            "  UserWarning,\n",
            "/usr/local/lib/python3.7/dist-packages/sklearn/model_selection/_split.py:680: UserWarning: The least populated class in y has only 1 members, which is less than n_splits=5.\n",
            "  UserWarning,\n"
          ]
        },
        {
          "output_type": "execute_result",
          "data": {
            "text/plain": [
              "({'fit_time': array([0.25343156, 0.24563384, 0.24542332, 0.25391054, 0.25663471]),\n",
              "  'score_time': array([0.01413035, 0.01270914, 0.01423097, 0.01324749, 0.01499295]),\n",
              "  'test_score': array([0.52307692, 0.71282051, 0.72680412, 0.75257732, 0.68556701])},\n",
              " 0.6801691779011367)"
            ]
          },
          "metadata": {},
          "execution_count": 400
        }
      ]
    },
    {
      "cell_type": "code",
      "source": [
        "from sklearn.linear_model import LogisticRegression\n",
        "\n",
        "pipetotal = Pipeline([\n",
        "        ('preproc', preproc),\n",
        "        ('logisticreg', LogisticRegression())             \n",
        "])\n",
        "from sklearn.model_selection import cross_validate\n",
        "import numpy as np\n",
        "\n",
        "scores = cross_validate(pipetotal, X, y)\n",
        "scores, np.mean(scores['test_score'])\n",
        "\n",
        "from sklearn.model_selection import GridSearchCV\n",
        "parametros = {\n",
        "    'logisticreg__max_depth': [None] + list(range(1,20,2)),\n",
        "    'logisticreg__criterion': ['gini', 'entropy']\n",
        "    }\n",
        "modelo = GridSearchCV(pipetotal, param_grid=parametros)\n",
        "scores = cross_validate(pipetotal, X, y)\n",
        "scores, np.mean(scores['test_score'])"
      ],
      "metadata": {
        "colab": {
          "base_uri": "https://localhost:8080/"
        },
        "id": "cDPQyyWSfXVi",
        "outputId": "49704c52-788e-485c-a1e0-631e4ac6e3cc"
      },
      "execution_count": 401,
      "outputs": [
        {
          "output_type": "stream",
          "name": "stderr",
          "text": [
            "/usr/local/lib/python3.7/dist-packages/sklearn/model_selection/_split.py:680: UserWarning: The least populated class in y has only 1 members, which is less than n_splits=5.\n",
            "  UserWarning,\n",
            "/usr/local/lib/python3.7/dist-packages/sklearn/model_selection/_split.py:680: UserWarning: The least populated class in y has only 1 members, which is less than n_splits=5.\n",
            "  UserWarning,\n"
          ]
        },
        {
          "output_type": "execute_result",
          "data": {
            "text/plain": [
              "({'fit_time': array([7.94344401, 8.37836695, 7.75193548, 7.65616107, 7.94341326]),\n",
              "  'score_time': array([0.05581474, 0.02053499, 0.02170467, 0.02206063, 0.02916098]),\n",
              "  'test_score': array([0.69230769, 0.79487179, 0.75257732, 0.80412371, 0.75773196])},\n",
              " 0.7603224953740417)"
            ]
          },
          "metadata": {},
          "execution_count": 401
        }
      ]
    },
    {
      "cell_type": "code",
      "source": [
        "from sklearn.ensemble import RandomForestClassifier\n",
        "\n",
        "pipetotal = Pipeline([\n",
        "        ('preproc', preproc),\n",
        "        ('randonf', RandomForestClassifier())             \n",
        "])\n",
        "from sklearn.model_selection import cross_validate\n",
        "import numpy as np\n",
        "\n",
        "scores = cross_validate(pipetotal, X, y)\n",
        "scores, np.mean(scores['test_score'])\n",
        "\n",
        "from sklearn.model_selection import GridSearchCV\n",
        "parametros = {\n",
        "    'randonf__max_depth': [None] + list(range(1,20,2)),\n",
        "    'randonf__criterion': ['gini', 'entropy']\n",
        "    }\n",
        "modelo = GridSearchCV(pipetotal, param_grid=parametros)\n",
        "scores = cross_validate(pipetotal, X, y)\n",
        "scores, np.mean(scores['test_score'])"
      ],
      "metadata": {
        "colab": {
          "base_uri": "https://localhost:8080/"
        },
        "id": "enPvq4lQ2CwZ",
        "outputId": "a29bda52-cb7b-432c-8d9e-3157f2b1d00d"
      },
      "execution_count": 402,
      "outputs": [
        {
          "output_type": "stream",
          "name": "stderr",
          "text": [
            "/usr/local/lib/python3.7/dist-packages/sklearn/model_selection/_split.py:680: UserWarning: The least populated class in y has only 1 members, which is less than n_splits=5.\n",
            "  UserWarning,\n",
            "/usr/local/lib/python3.7/dist-packages/sklearn/model_selection/_split.py:680: UserWarning: The least populated class in y has only 1 members, which is less than n_splits=5.\n",
            "  UserWarning,\n"
          ]
        },
        {
          "output_type": "execute_result",
          "data": {
            "text/plain": [
              "({'fit_time': array([0.6535902 , 0.65317702, 0.6802814 , 0.64203739, 0.65160394]),\n",
              "  'score_time': array([0.0545907 , 0.06462383, 0.05604362, 0.05211854, 0.0525167 ]),\n",
              "  'test_score': array([0.82051282, 0.83589744, 0.82474227, 0.80412371, 0.80927835])},\n",
              " 0.8189109172614326)"
            ]
          },
          "metadata": {},
          "execution_count": 402
        }
      ]
    }
  ]
}