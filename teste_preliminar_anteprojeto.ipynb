{
  "nbformat": 4,
  "nbformat_minor": 0,
  "metadata": {
    "colab": {
      "name": "teste_preliminar_anteprojeto.ipynb",
      "provenance": [],
      "collapsed_sections": [],
      "authorship_tag": "ABX9TyNnj9t2VN7O7ah5nAKbD/fI",
      "include_colab_link": true
    },
    "kernelspec": {
      "name": "python3",
      "display_name": "Python 3"
    },
    "language_info": {
      "name": "python"
    }
  },
  "cells": [
    {
      "cell_type": "markdown",
      "metadata": {
        "id": "view-in-github",
        "colab_type": "text"
      },
      "source": [
        "<a href=\"https://colab.research.google.com/github/fabiomonte2/AP/blob/main/teste_preliminar_anteprojeto.ipynb\" target=\"_parent\"><img src=\"https://colab.research.google.com/assets/colab-badge.svg\" alt=\"Open In Colab\"/></a>"
      ]
    },
    {
      "cell_type": "code",
      "execution_count": 345,
      "metadata": {
        "id": "muplff6TQ6QJ"
      },
      "outputs": [],
      "source": [
        "import numpy as np\n",
        "\n",
        "import pandas as pd\n",
        "\n",
        "from pandas import Series, DataFrame\n",
        "\n",
        "from sklearn.model_selection import train_test_split"
      ]
    },
    {
      "cell_type": "markdown",
      "source": [
        "# Nova seção"
      ],
      "metadata": {
        "id": "CmFKWcdTiWZe"
      }
    },
    {
      "cell_type": "code",
      "source": [
        "data = pd.read_csv('vendas_homelist.csv')\n",
        "data = df.replace(r'\\W+', '', regex=True)\n"
      ],
      "metadata": {
        "id": "3hGN024nif_Y"
      },
      "execution_count": 346,
      "outputs": []
    },
    {
      "cell_type": "code",
      "source": [
        "data.head()"
      ],
      "metadata": {
        "colab": {
          "base_uri": "https://localhost:8080/",
          "height": 287
        },
        "id": "xpKmvwwObMGD",
        "outputId": "e64653f3-d2ad-407c-aee4-8722645d08c3"
      },
      "execution_count": 347,
      "outputs": [
        {
          "output_type": "execute_result",
          "data": {
            "text/html": [
              "\n",
              "  <div id=\"df-8c420f6e-3f79-49f8-9d16-6f2ae089f6c5\">\n",
              "    <div class=\"colab-df-container\">\n",
              "      <div>\n",
              "<style scoped>\n",
              "    .dataframe tbody tr th:only-of-type {\n",
              "        vertical-align: middle;\n",
              "    }\n",
              "\n",
              "    .dataframe tbody tr th {\n",
              "        vertical-align: top;\n",
              "    }\n",
              "\n",
              "    .dataframe thead th {\n",
              "        text-align: right;\n",
              "    }\n",
              "</style>\n",
              "<table border=\"1\" class=\"dataframe\">\n",
              "  <thead>\n",
              "    <tr style=\"text-align: right;\">\n",
              "      <th></th>\n",
              "      <th>ID</th>\n",
              "      <th>Numero_pedido</th>\n",
              "      <th>Data_compra</th>\n",
              "      <th>ID_contato</th>\n",
              "      <th>Nome_cliente</th>\n",
              "      <th>Cpf_Cnpj</th>\n",
              "      <th>Endereco</th>\n",
              "      <th>Bairro</th>\n",
              "      <th>Municipio</th>\n",
              "      <th>Cep</th>\n",
              "      <th>Estado</th>\n",
              "      <th>E-mail</th>\n",
              "      <th>Telefone</th>\n",
              "      <th>ID_produto</th>\n",
              "      <th>Descricao</th>\n",
              "      <th>Quantidade</th>\n",
              "      <th>Valor_uni</th>\n",
              "      <th>Desconto item</th>\n",
              "      <th>Preco_Total</th>\n",
              "      <th>Codigo_produto</th>\n",
              "    </tr>\n",
              "  </thead>\n",
              "  <tbody>\n",
              "    <tr>\n",
              "      <th>0</th>\n",
              "      <td>14654545550</td>\n",
              "      <td>10027</td>\n",
              "      <td>9202021</td>\n",
              "      <td>14514457733</td>\n",
              "      <td>Fernandazani</td>\n",
              "      <td>11253265739</td>\n",
              "      <td>RuaProfessorBelmiroSiqueira85BairroEnseadadoSu...</td>\n",
              "      <td>EnseadadoSua</td>\n",
              "      <td>Vitória</td>\n",
              "      <td>29050580</td>\n",
              "      <td>ES</td>\n",
              "      <td>fernandinhavrhotmailcom</td>\n",
              "      <td>27998733822</td>\n",
              "      <td>14358672115</td>\n",
              "      <td>GuardanapoSantepel24x22cm50Unidades</td>\n",
              "      <td>1</td>\n",
              "      <td>R229</td>\n",
              "      <td>0</td>\n",
              "      <td>229</td>\n",
              "      <td>439</td>\n",
              "    </tr>\n",
              "    <tr>\n",
              "      <th>1</th>\n",
              "      <td>14654545550</td>\n",
              "      <td>10027</td>\n",
              "      <td>9202021</td>\n",
              "      <td>14514457733</td>\n",
              "      <td>Fernandazani</td>\n",
              "      <td>11253265739</td>\n",
              "      <td>RuaProfessorBelmiroSiqueira85BairroEnseadadoSu...</td>\n",
              "      <td>EnseadadoSua</td>\n",
              "      <td>Vitória</td>\n",
              "      <td>29050580</td>\n",
              "      <td>ES</td>\n",
              "      <td>fernandinhavrhotmailcom</td>\n",
              "      <td>27998733822</td>\n",
              "      <td>14358662976</td>\n",
              "      <td>ArrozCalafateIntegral1kg</td>\n",
              "      <td>1</td>\n",
              "      <td>R877</td>\n",
              "      <td>0</td>\n",
              "      <td>877</td>\n",
              "      <td>84</td>\n",
              "    </tr>\n",
              "    <tr>\n",
              "      <th>2</th>\n",
              "      <td>14654545550</td>\n",
              "      <td>10027</td>\n",
              "      <td>9202021</td>\n",
              "      <td>14514457733</td>\n",
              "      <td>Fernandazani</td>\n",
              "      <td>11253265739</td>\n",
              "      <td>RuaProfessorBelmiroSiqueira85BairroEnseadadoSu...</td>\n",
              "      <td>EnseadadoSua</td>\n",
              "      <td>Vitória</td>\n",
              "      <td>29050580</td>\n",
              "      <td>ES</td>\n",
              "      <td>fernandinhavrhotmailcom</td>\n",
              "      <td>27998733822</td>\n",
              "      <td>14358670009</td>\n",
              "      <td>FeijãoPretoCombrasilTipo11kg</td>\n",
              "      <td>1</td>\n",
              "      <td>R962</td>\n",
              "      <td>0</td>\n",
              "      <td>962</td>\n",
              "      <td>368</td>\n",
              "    </tr>\n",
              "    <tr>\n",
              "      <th>3</th>\n",
              "      <td>14654545550</td>\n",
              "      <td>10027</td>\n",
              "      <td>9202021</td>\n",
              "      <td>14514457733</td>\n",
              "      <td>Fernandazani</td>\n",
              "      <td>11253265739</td>\n",
              "      <td>RuaProfessorBelmiroSiqueira85BairroEnseadadoSu...</td>\n",
              "      <td>EnseadadoSua</td>\n",
              "      <td>Vitória</td>\n",
              "      <td>29050580</td>\n",
              "      <td>ES</td>\n",
              "      <td>fernandinhavrhotmailcom</td>\n",
              "      <td>27998733822</td>\n",
              "      <td>14358684476</td>\n",
              "      <td>PalmitoRioPretoInteiro300g</td>\n",
              "      <td>1</td>\n",
              "      <td>R1739</td>\n",
              "      <td>0</td>\n",
              "      <td>1739</td>\n",
              "      <td>853</td>\n",
              "    </tr>\n",
              "    <tr>\n",
              "      <th>4</th>\n",
              "      <td>14654545550</td>\n",
              "      <td>10027</td>\n",
              "      <td>9202021</td>\n",
              "      <td>14514457733</td>\n",
              "      <td>Fernandazani</td>\n",
              "      <td>11253265739</td>\n",
              "      <td>RuaProfessorBelmiroSiqueira85BairroEnseadadoSu...</td>\n",
              "      <td>EnseadadoSua</td>\n",
              "      <td>Vitória</td>\n",
              "      <td>29050580</td>\n",
              "      <td>ES</td>\n",
              "      <td>fernandinhavrhotmailcom</td>\n",
              "      <td>27998733822</td>\n",
              "      <td>14358676128</td>\n",
              "      <td>LeiteIntegralNaturalMilkItambé1L</td>\n",
              "      <td>2</td>\n",
              "      <td>R729</td>\n",
              "      <td>0</td>\n",
              "      <td>1458</td>\n",
              "      <td>573</td>\n",
              "    </tr>\n",
              "  </tbody>\n",
              "</table>\n",
              "</div>\n",
              "      <button class=\"colab-df-convert\" onclick=\"convertToInteractive('df-8c420f6e-3f79-49f8-9d16-6f2ae089f6c5')\"\n",
              "              title=\"Convert this dataframe to an interactive table.\"\n",
              "              style=\"display:none;\">\n",
              "        \n",
              "  <svg xmlns=\"http://www.w3.org/2000/svg\" height=\"24px\"viewBox=\"0 0 24 24\"\n",
              "       width=\"24px\">\n",
              "    <path d=\"M0 0h24v24H0V0z\" fill=\"none\"/>\n",
              "    <path d=\"M18.56 5.44l.94 2.06.94-2.06 2.06-.94-2.06-.94-.94-2.06-.94 2.06-2.06.94zm-11 1L8.5 8.5l.94-2.06 2.06-.94-2.06-.94L8.5 2.5l-.94 2.06-2.06.94zm10 10l.94 2.06.94-2.06 2.06-.94-2.06-.94-.94-2.06-.94 2.06-2.06.94z\"/><path d=\"M17.41 7.96l-1.37-1.37c-.4-.4-.92-.59-1.43-.59-.52 0-1.04.2-1.43.59L10.3 9.45l-7.72 7.72c-.78.78-.78 2.05 0 2.83L4 21.41c.39.39.9.59 1.41.59.51 0 1.02-.2 1.41-.59l7.78-7.78 2.81-2.81c.8-.78.8-2.07 0-2.86zM5.41 20L4 18.59l7.72-7.72 1.47 1.35L5.41 20z\"/>\n",
              "  </svg>\n",
              "      </button>\n",
              "      \n",
              "  <style>\n",
              "    .colab-df-container {\n",
              "      display:flex;\n",
              "      flex-wrap:wrap;\n",
              "      gap: 12px;\n",
              "    }\n",
              "\n",
              "    .colab-df-convert {\n",
              "      background-color: #E8F0FE;\n",
              "      border: none;\n",
              "      border-radius: 50%;\n",
              "      cursor: pointer;\n",
              "      display: none;\n",
              "      fill: #1967D2;\n",
              "      height: 32px;\n",
              "      padding: 0 0 0 0;\n",
              "      width: 32px;\n",
              "    }\n",
              "\n",
              "    .colab-df-convert:hover {\n",
              "      background-color: #E2EBFA;\n",
              "      box-shadow: 0px 1px 2px rgba(60, 64, 67, 0.3), 0px 1px 3px 1px rgba(60, 64, 67, 0.15);\n",
              "      fill: #174EA6;\n",
              "    }\n",
              "\n",
              "    [theme=dark] .colab-df-convert {\n",
              "      background-color: #3B4455;\n",
              "      fill: #D2E3FC;\n",
              "    }\n",
              "\n",
              "    [theme=dark] .colab-df-convert:hover {\n",
              "      background-color: #434B5C;\n",
              "      box-shadow: 0px 1px 3px 1px rgba(0, 0, 0, 0.15);\n",
              "      filter: drop-shadow(0px 1px 2px rgba(0, 0, 0, 0.3));\n",
              "      fill: #FFFFFF;\n",
              "    }\n",
              "  </style>\n",
              "\n",
              "      <script>\n",
              "        const buttonEl =\n",
              "          document.querySelector('#df-8c420f6e-3f79-49f8-9d16-6f2ae089f6c5 button.colab-df-convert');\n",
              "        buttonEl.style.display =\n",
              "          google.colab.kernel.accessAllowed ? 'block' : 'none';\n",
              "\n",
              "        async function convertToInteractive(key) {\n",
              "          const element = document.querySelector('#df-8c420f6e-3f79-49f8-9d16-6f2ae089f6c5');\n",
              "          const dataTable =\n",
              "            await google.colab.kernel.invokeFunction('convertToInteractive',\n",
              "                                                     [key], {});\n",
              "          if (!dataTable) return;\n",
              "\n",
              "          const docLinkHtml = 'Like what you see? Visit the ' +\n",
              "            '<a target=\"_blank\" href=https://colab.research.google.com/notebooks/data_table.ipynb>data table notebook</a>'\n",
              "            + ' to learn more about interactive tables.';\n",
              "          element.innerHTML = '';\n",
              "          dataTable['output_type'] = 'display_data';\n",
              "          await google.colab.output.renderOutput(dataTable, element);\n",
              "          const docLink = document.createElement('div');\n",
              "          docLink.innerHTML = docLinkHtml;\n",
              "          element.appendChild(docLink);\n",
              "        }\n",
              "      </script>\n",
              "    </div>\n",
              "  </div>\n",
              "  "
            ],
            "text/plain": [
              "            ID  Numero_pedido  ... Preco_Total  Codigo_produto\n",
              "0  14654545550          10027  ...         229             439\n",
              "1  14654545550          10027  ...         877              84\n",
              "2  14654545550          10027  ...         962             368\n",
              "3  14654545550          10027  ...        1739             853\n",
              "4  14654545550          10027  ...        1458             573\n",
              "\n",
              "[5 rows x 20 columns]"
            ]
          },
          "metadata": {},
          "execution_count": 347
        }
      ]
    },
    {
      "cell_type": "code",
      "source": [
        "# problemas: compra e recompra de um produto\n",
        "# produtos mais vendidos\n",
        "# produtos populares (usar outras bases de dados que classificam o produto em popular)\n",
        "# agrupar as compras e recompras "
      ],
      "metadata": {
        "id": "NQ2PhYlUbqSh"
      },
      "execution_count": 348,
      "outputs": []
    },
    {
      "cell_type": "code",
      "source": [
        "import pandas as pd\n",
        "data = pd.read_csv('vendas_homelist.csv')\n",
        "data.dtypes"
      ],
      "metadata": {
        "colab": {
          "base_uri": "https://localhost:8080/"
        },
        "id": "wZrPVUJaJ9C8",
        "outputId": "59398f11-926f-45b5-b708-a810f678cc38"
      },
      "execution_count": 349,
      "outputs": [
        {
          "output_type": "execute_result",
          "data": {
            "text/plain": [
              "ID                 int64\n",
              "Numero_pedido      int64\n",
              "Data_compra       object\n",
              "ID_contato         int64\n",
              "Nome_cliente      object\n",
              "Cpf_Cnpj          object\n",
              "Endereco          object\n",
              "Bairro            object\n",
              "Municipio         object\n",
              "Cep               object\n",
              "Estado            object\n",
              "E-mail            object\n",
              "Telefone          object\n",
              "ID_produto         int64\n",
              "Descricao         object\n",
              "Quantidade        object\n",
              "Valor_uni         object\n",
              "Desconto item     object\n",
              "Preco_Total       object\n",
              "Codigo_produto     int64\n",
              "dtype: object"
            ]
          },
          "metadata": {},
          "execution_count": 349
        }
      ]
    },
    {
      "cell_type": "code",
      "source": [
        "y = data['ID_produto']\n",
        "y"
      ],
      "metadata": {
        "colab": {
          "base_uri": "https://localhost:8080/"
        },
        "id": "UGm-vYeBRThg",
        "outputId": "1c941e26-8716-42d3-fea9-7311e02f63de"
      },
      "execution_count": 350,
      "outputs": [
        {
          "output_type": "execute_result",
          "data": {
            "text/plain": [
              "0      14358672115\n",
              "1      14358662976\n",
              "2      14358670009\n",
              "3      14358684476\n",
              "4      14358676128\n",
              "          ...     \n",
              "967    14358698489\n",
              "968    14358669855\n",
              "969    14358681692\n",
              "970    14358665341\n",
              "971    14358698948\n",
              "Name: ID_produto, Length: 972, dtype: int64"
            ]
          },
          "metadata": {},
          "execution_count": 350
        }
      ]
    },
    {
      "cell_type": "code",
      "source": [
        "X = data.drop('ID_produto',axis=1)\n",
        "X.columns"
      ],
      "metadata": {
        "colab": {
          "base_uri": "https://localhost:8080/"
        },
        "id": "OMmlmjtNRnUz",
        "outputId": "cd17655c-b233-4298-e957-de05d80900c8"
      },
      "execution_count": 351,
      "outputs": [
        {
          "output_type": "execute_result",
          "data": {
            "text/plain": [
              "Index(['ID', 'Numero_pedido', 'Data_compra', 'ID_contato', 'Nome_cliente',\n",
              "       'Cpf_Cnpj', 'Endereco', 'Bairro', 'Municipio', 'Cep', 'Estado',\n",
              "       'E-mail', 'Telefone', 'Descricao', 'Quantidade', 'Valor_uni',\n",
              "       'Desconto item', 'Preco_Total', 'Codigo_produto'],\n",
              "      dtype='object')"
            ]
          },
          "metadata": {},
          "execution_count": 351
        }
      ]
    },
    {
      "cell_type": "code",
      "source": [
        "for column in X.columns:\n",
        "  print(f\"{column:>12}: {len(set(X[column])):4} {X[column].dtype}\")"
      ],
      "metadata": {
        "colab": {
          "base_uri": "https://localhost:8080/"
        },
        "id": "mCKO5L8SRxXk",
        "outputId": "a9bc628a-32e8-4c06-e590-8cefcc339ee3"
      },
      "execution_count": 352,
      "outputs": [
        {
          "output_type": "stream",
          "name": "stdout",
          "text": [
            "          ID:   55 int64\n",
            "Numero_pedido:   55 int64\n",
            " Data_compra:   21 object\n",
            "  ID_contato:    8 int64\n",
            "Nome_cliente:    8 object\n",
            "    Cpf_Cnpj:    8 object\n",
            "    Endereco:    8 object\n",
            "      Bairro:    8 object\n",
            "   Municipio:    2 object\n",
            "         Cep:    8 object\n",
            "      Estado:    1 object\n",
            "      E-mail:    8 object\n",
            "    Telefone:    8 object\n",
            "   Descricao:  257 object\n",
            "  Quantidade:  162 object\n",
            "   Valor_uni:  275 object\n",
            "Desconto item:    2 object\n",
            " Preco_Total:  447 object\n",
            "Codigo_produto:  254 int64\n"
          ]
        }
      ]
    },
    {
      "cell_type": "code",
      "source": [
        "indesejadas = ['Preco_Total']\n",
        "Xdrop = X.drop(indesejadas,axis=1)\n",
        "Xdrop.columns"
      ],
      "metadata": {
        "colab": {
          "base_uri": "https://localhost:8080/"
        },
        "id": "SwmYwbkL0znS",
        "outputId": "41753970-88d8-419c-a55a-d68c175959c7"
      },
      "execution_count": 353,
      "outputs": [
        {
          "output_type": "execute_result",
          "data": {
            "text/plain": [
              "Index(['ID', 'Numero_pedido', 'Data_compra', 'ID_contato', 'Nome_cliente',\n",
              "       'Cpf_Cnpj', 'Endereco', 'Bairro', 'Municipio', 'Cep', 'Estado',\n",
              "       'E-mail', 'Telefone', 'Descricao', 'Quantidade', 'Valor_uni',\n",
              "       'Desconto item', 'Codigo_produto'],\n",
              "      dtype='object')"
            ]
          },
          "metadata": {},
          "execution_count": 353
        }
      ]
    },
    {
      "cell_type": "code",
      "source": [
        "Xnum = X.select_dtypes('number')\n",
        "Xnum.columns"
      ],
      "metadata": {
        "colab": {
          "base_uri": "https://localhost:8080/"
        },
        "id": "J5uauKVJR6IT",
        "outputId": "ee80412a-0091-4290-bae8-fa4e29939be0"
      },
      "execution_count": 354,
      "outputs": [
        {
          "output_type": "execute_result",
          "data": {
            "text/plain": [
              "Index(['ID', 'Numero_pedido', 'ID_contato', 'Codigo_produto'], dtype='object')"
            ]
          },
          "metadata": {},
          "execution_count": 354
        }
      ]
    },
    {
      "cell_type": "code",
      "source": [
        "from sklearn.impute import SimpleImputer\n",
        "imputer = SimpleImputer(strategy='median') \n",
        "XnumLimpo = imputer.fit_transform(Xnum)\n",
        "XnumLimpo"
      ],
      "metadata": {
        "colab": {
          "base_uri": "https://localhost:8080/"
        },
        "id": "PJU9hHyfTToz",
        "outputId": "d04b5c51-b48e-4fcf-801f-5b4c9dbaa451"
      },
      "execution_count": 355,
      "outputs": [
        {
          "output_type": "execute_result",
          "data": {
            "text/plain": [
              "array([[1.46545456e+10, 1.00270000e+04, 1.45144577e+10, 4.39000000e+02],\n",
              "       [1.46545456e+10, 1.00270000e+04, 1.45144577e+10, 8.40000000e+01],\n",
              "       [1.46545456e+10, 1.00270000e+04, 1.45144577e+10, 3.68000000e+02],\n",
              "       ...,\n",
              "       [1.56534553e+10, 1.00810000e+04, 1.45144724e+10, 7.87000000e+02],\n",
              "       [1.56534553e+10, 1.00810000e+04, 1.45144724e+10, 1.85000000e+02],\n",
              "       [1.56534553e+10, 1.00810000e+04, 1.45144724e+10, 1.26100000e+03]])"
            ]
          },
          "metadata": {},
          "execution_count": 355
        }
      ]
    },
    {
      "cell_type": "code",
      "source": [
        "for column in Xnum.columns:\n",
        "  print(f\"{column:>12}: {sum(Xnum[column].isnull())}\")"
      ],
      "metadata": {
        "colab": {
          "base_uri": "https://localhost:8080/"
        },
        "id": "7aXd2dc-SfK1",
        "outputId": "4ba27d05-9d79-4d1b-c6d8-079cea6b736c"
      },
      "execution_count": 356,
      "outputs": [
        {
          "output_type": "stream",
          "name": "stdout",
          "text": [
            "          ID: 0\n",
            "Numero_pedido: 0\n",
            "  ID_contato: 0\n",
            "Codigo_produto: 0\n"
          ]
        }
      ]
    },
    {
      "cell_type": "code",
      "source": [
        "Xcat = X.select_dtypes('object')\n",
        "Xcat.columns"
      ],
      "metadata": {
        "colab": {
          "base_uri": "https://localhost:8080/"
        },
        "id": "DX0Wm5TzSk5P",
        "outputId": "2a469ce7-8efd-4b31-a220-47357b3c20d9"
      },
      "execution_count": 357,
      "outputs": [
        {
          "output_type": "execute_result",
          "data": {
            "text/plain": [
              "Index(['Data_compra', 'Nome_cliente', 'Cpf_Cnpj', 'Endereco', 'Bairro',\n",
              "       'Municipio', 'Cep', 'Estado', 'E-mail', 'Telefone', 'Descricao',\n",
              "       'Quantidade', 'Valor_uni', 'Desconto item', 'Preco_Total'],\n",
              "      dtype='object')"
            ]
          },
          "metadata": {},
          "execution_count": 357
        }
      ]
    },
    {
      "cell_type": "code",
      "source": [
        "for column in Xcat.columns:\n",
        "  print(f\"{column:>12}: {sum(Xcat[column].isnull())}\")"
      ],
      "metadata": {
        "colab": {
          "base_uri": "https://localhost:8080/"
        },
        "id": "9XYWzJYESvrd",
        "outputId": "7bf7d2b1-f6e0-47ca-ccdb-003e11a09f27"
      },
      "execution_count": 358,
      "outputs": [
        {
          "output_type": "stream",
          "name": "stdout",
          "text": [
            " Data_compra: 0\n",
            "Nome_cliente: 0\n",
            "    Cpf_Cnpj: 0\n",
            "    Endereco: 0\n",
            "      Bairro: 0\n",
            "   Municipio: 0\n",
            "         Cep: 0\n",
            "      Estado: 0\n",
            "      E-mail: 0\n",
            "    Telefone: 0\n",
            "   Descricao: 0\n",
            "  Quantidade: 0\n",
            "   Valor_uni: 0\n",
            "Desconto item: 0\n",
            " Preco_Total: 0\n"
          ]
        }
      ]
    },
    {
      "cell_type": "code",
      "source": [
        "from sklearn.impute import SimpleImputer\n",
        "imputer = SimpleImputer(strategy='most_frequent')\n",
        "XcatLimpo = imputer.fit_transform(Xcat)\n",
        "XcatLimpo"
      ],
      "metadata": {
        "colab": {
          "base_uri": "https://localhost:8080/"
        },
        "id": "oMAcFkuUTfbX",
        "outputId": "aebf4b10-0d6c-4b22-dd0e-fa923bd78c1b"
      },
      "execution_count": 359,
      "outputs": [
        {
          "output_type": "execute_result",
          "data": {
            "text/plain": [
              "array([['9/20/2021', 'Fernanda zani', '112.532.657-39', ..., 'R$ 2,29',\n",
              "        '0', '$2,29'],\n",
              "       ['9/20/2021', 'Fernanda zani', '112.532.657-39', ..., 'R$ 8,77',\n",
              "        '0', '$8,77'],\n",
              "       ['9/20/2021', 'Fernanda zani', '112.532.657-39', ..., 'R$ 9,62',\n",
              "        '0', '$9,62'],\n",
              "       ...,\n",
              "       ['12/22/2021', 'Ana Carolina Vieira da rosa Andreao',\n",
              "        '112.532.697-26', ..., 'R$ 3,19', '0', '$3,19'],\n",
              "       ['12/22/2021', 'Ana Carolina Vieira da rosa Andreao',\n",
              "        '112.532.697-26', ..., 'R$ 2,89', '0', '$2,89'],\n",
              "       ['12/22/2021', 'Ana Carolina Vieira da rosa Andreao',\n",
              "        '112.532.697-26', ..., 'R$ 9,43', '0', '$9,43']], dtype=object)"
            ]
          },
          "metadata": {},
          "execution_count": 359
        }
      ]
    },
    {
      "cell_type": "code",
      "source": [
        "from sklearn.preprocessing import OneHotEncoder\n",
        "encoder = OneHotEncoder()\n",
        "XcatHot = encoder.fit_transform(XcatLimpo)\n",
        "XcatHot"
      ],
      "metadata": {
        "colab": {
          "base_uri": "https://localhost:8080/"
        },
        "id": "j1usTCCKS3Jt",
        "outputId": "1c090637-559d-40cc-bfd8-82345dcb2134"
      },
      "execution_count": 360,
      "outputs": [
        {
          "output_type": "execute_result",
          "data": {
            "text/plain": [
              "<972x1223 sparse matrix of type '<class 'numpy.float64'>'\n",
              "\twith 14580 stored elements in Compressed Sparse Row format>"
            ]
          },
          "metadata": {},
          "execution_count": 360
        }
      ]
    },
    {
      "cell_type": "code",
      "source": [
        "import numpy as np \n",
        "Xtratado = np.c_[XnumLimpo,XcatHot.toarray()]\n",
        "Xtratado.shape"
      ],
      "metadata": {
        "colab": {
          "base_uri": "https://localhost:8080/"
        },
        "id": "U7m7eZbCTlek",
        "outputId": "18935e75-4d01-4a1f-92f3-4065ef89ab7e"
      },
      "execution_count": 361,
      "outputs": [
        {
          "output_type": "execute_result",
          "data": {
            "text/plain": [
              "(972, 1227)"
            ]
          },
          "metadata": {},
          "execution_count": 361
        }
      ]
    },
    {
      "cell_type": "code",
      "source": [
        "import pandas as pd\n",
        "train = pd.read_csv('vendas_homelist.csv')\n",
        "test = pd.read_csv('test.csv')\n",
        "test = df.replace(r'\\W+', '', regex=True)\n",
        "train.columns.isin(test.columns)"
      ],
      "metadata": {
        "colab": {
          "base_uri": "https://localhost:8080/"
        },
        "id": "PZLNS4mkTqit",
        "outputId": "7b882cfb-e814-486a-d77d-5dc5aea2a13f"
      },
      "execution_count": 362,
      "outputs": [
        {
          "output_type": "execute_result",
          "data": {
            "text/plain": [
              "array([ True,  True,  True,  True,  True,  True,  True,  True,  True,\n",
              "        True,  True,  True,  True,  True,  True,  True,  True,  True,\n",
              "        True,  True])"
            ]
          },
          "metadata": {},
          "execution_count": 362
        }
      ]
    },
    {
      "cell_type": "code",
      "source": [
        "from sklearn.base import BaseEstimator, TransformerMixin\n",
        "class AtributosNumericos(BaseEstimator, TransformerMixin):\n",
        "  def fit(self, X, y=None):\n",
        "    self.colunasNumericas = X.select_dtypes(include='number').columns\n",
        "    return self\n",
        "  def transform(self, X, y=None):\n",
        "    return X[self.colunasNumericas]\n",
        "\n",
        "atributosNumericos = AtributosNumericos()\n",
        "Xnum = atributosNumericos.fit_transform(X)\n",
        "Xnum.columns"
      ],
      "metadata": {
        "colab": {
          "base_uri": "https://localhost:8080/"
        },
        "id": "585NXS0uUBqP",
        "outputId": "d1b61dc9-a268-4702-835f-8e6601f8e61c"
      },
      "execution_count": 363,
      "outputs": [
        {
          "output_type": "execute_result",
          "data": {
            "text/plain": [
              "Index(['ID', 'Numero_pedido', 'ID_contato', 'Codigo_produto'], dtype='object')"
            ]
          },
          "metadata": {},
          "execution_count": 363
        }
      ]
    },
    {
      "cell_type": "code",
      "source": [
        "from sklearn.pipeline import Pipeline\n",
        "from sklearn.impute import SimpleImputer\n",
        "from sklearn.preprocessing import StandardScaler\n",
        "\n",
        "pipenum = Pipeline([\n",
        "                ('atributos_numericos', AtributosNumericos()),\n",
        "                ('imputer', SimpleImputer(strategy='median')),\n",
        "                ('sacaler', StandardScaler())\n",
        "])\n",
        "\n",
        "XnumLimpo = pipenum.fit_transform(Xnum)\n",
        "XnumLimpo"
      ],
      "metadata": {
        "colab": {
          "base_uri": "https://localhost:8080/"
        },
        "id": "eqWDEJaOU-B5",
        "outputId": "37f39862-6488-4f3d-f21d-39e53848da89"
      },
      "execution_count": 364,
      "outputs": [
        {
          "output_type": "execute_result",
          "data": {
            "text/plain": [
              "array([[-1.95556092, -1.74286421, -0.67202576, -0.44356032],\n",
              "       [-1.95556092, -1.74286421, -0.67202576, -1.30585614],\n",
              "       [-1.95556092, -1.74286421, -0.67202576, -0.61601948],\n",
              "       ...,\n",
              "       [ 1.49598167,  1.61565905, -0.67193891,  0.4017325 ],\n",
              "       [ 1.49598167,  1.61565905, -0.67193891, -1.06052691],\n",
              "       [ 1.49598167,  1.61565905, -0.67193891,  1.5530796 ]])"
            ]
          },
          "metadata": {},
          "execution_count": 364
        }
      ]
    },
    {
      "cell_type": "code",
      "source": [
        "from sklearn.base import BaseEstimator, TransformerMixin\n",
        "class AtributosCategoricos(BaseEstimator, TransformerMixin):\n",
        "  def fit(self, X, y=None):\n",
        "    self.colunasCategoricas = X.select_dtypes(include='object').columns\n",
        "    return self\n",
        "  def transform(self, X, y=None):\n",
        "    return X[self.colunasCategoricas]\n",
        "\n",
        "atributosCategoricos = AtributosCategoricos()\n",
        "Xcat = atributosCategoricos.fit_transform(X)\n",
        "Xcat.columns"
      ],
      "metadata": {
        "colab": {
          "base_uri": "https://localhost:8080/"
        },
        "id": "3JKNby3bVEgA",
        "outputId": "582cd21c-f021-457a-fe95-8c1ec368e91c"
      },
      "execution_count": 365,
      "outputs": [
        {
          "output_type": "execute_result",
          "data": {
            "text/plain": [
              "Index(['Data_compra', 'Nome_cliente', 'Cpf_Cnpj', 'Endereco', 'Bairro',\n",
              "       'Municipio', 'Cep', 'Estado', 'E-mail', 'Telefone', 'Descricao',\n",
              "       'Quantidade', 'Valor_uni', 'Desconto item', 'Preco_Total'],\n",
              "      dtype='object')"
            ]
          },
          "metadata": {},
          "execution_count": 365
        }
      ]
    },
    {
      "cell_type": "code",
      "source": [
        "from sklearn.pipeline import Pipeline\n",
        "from sklearn.impute import SimpleImputer\n",
        "from sklearn.preprocessing import OneHotEncoder\n",
        "\n",
        "pipecat = Pipeline([\n",
        "                ('atributos_categoricos', AtributosCategoricos()),\n",
        "                ('imputer', SimpleImputer(strategy='most_frequent')),\n",
        "                ('encoder', OneHotEncoder(handle_unknown='ignore'))\n",
        "])\n",
        "\n",
        "XcatLimpo = pipenum.fit_transform(X)\n",
        "XcatLimpo"
      ],
      "metadata": {
        "colab": {
          "base_uri": "https://localhost:8080/"
        },
        "id": "pzfg_7QWVM5o",
        "outputId": "a367c3f0-efbe-4f4f-e799-e03b68ba2ef6"
      },
      "execution_count": 366,
      "outputs": [
        {
          "output_type": "execute_result",
          "data": {
            "text/plain": [
              "array([[-1.95556092, -1.74286421, -0.67202576, -0.44356032],\n",
              "       [-1.95556092, -1.74286421, -0.67202576, -1.30585614],\n",
              "       [-1.95556092, -1.74286421, -0.67202576, -0.61601948],\n",
              "       ...,\n",
              "       [ 1.49598167,  1.61565905, -0.67193891,  0.4017325 ],\n",
              "       [ 1.49598167,  1.61565905, -0.67193891, -1.06052691],\n",
              "       [ 1.49598167,  1.61565905, -0.67193891,  1.5530796 ]])"
            ]
          },
          "metadata": {},
          "execution_count": 366
        }
      ]
    },
    {
      "cell_type": "code",
      "source": [
        "from sklearn.pipeline import FeatureUnion\n",
        "unecaracteristicas = FeatureUnion([\n",
        "      ('pipenum', pipenum),\n",
        "      ('pipecat', pipecat)\n",
        "])\n",
        "\n",
        "Xtratado = unecaracteristicas.fit_transform(X)\n",
        "Xtratado"
      ],
      "metadata": {
        "colab": {
          "base_uri": "https://localhost:8080/"
        },
        "id": "ZJdfZAz1VxiH",
        "outputId": "d1f02f60-155b-40b7-87ef-668a062bdf66"
      },
      "execution_count": 367,
      "outputs": [
        {
          "output_type": "execute_result",
          "data": {
            "text/plain": [
              "<972x1227 sparse matrix of type '<class 'numpy.float64'>'\n",
              "\twith 18468 stored elements in Compressed Sparse Row format>"
            ]
          },
          "metadata": {},
          "execution_count": 367
        }
      ]
    },
    {
      "cell_type": "code",
      "source": [
        "from sklearn.pipeline import Pipeline\n",
        "\n",
        "preproc = Pipeline([\n",
        "        ('unecaracteristicas', unecaracteristicas)\n",
        "])\n",
        "\n",
        "Xtratado = preproc.fit_transform(X)\n",
        "Xtratado"
      ],
      "metadata": {
        "colab": {
          "base_uri": "https://localhost:8080/"
        },
        "id": "OLbbSSlmV8wt",
        "outputId": "d939addb-1c69-4ecf-a4f2-a5d9de9b4620"
      },
      "execution_count": 368,
      "outputs": [
        {
          "output_type": "execute_result",
          "data": {
            "text/plain": [
              "<972x1227 sparse matrix of type '<class 'numpy.float64'>'\n",
              "\twith 18468 stored elements in Compressed Sparse Row format>"
            ]
          },
          "metadata": {},
          "execution_count": 368
        }
      ]
    },
    {
      "cell_type": "code",
      "source": [
        "# testando o modelo com o algoritmo de arvore de decisão\n",
        "from sklearn.tree import DecisionTreeClassifier\n",
        "\n",
        "pipetotal = Pipeline([\n",
        "        ('preproc', preproc),\n",
        "        ('arvore', DecisionTreeClassifier())             \n",
        "])\n",
        "from sklearn.model_selection import cross_validate\n",
        "import numpy as np\n",
        "\n",
        "scores = cross_validate(pipetotal, X, y)\n",
        "scores, np.mean(scores['test_score'])\n",
        "\n",
        "from sklearn.model_selection import GridSearchCV\n",
        "parametros = {\n",
        "    'arvore__max_depth': [None] + list(range(1,20,2)),\n",
        "    'arvore__criterion': ['gini', 'entropy']\n",
        "    }\n",
        "modelo = GridSearchCV(pipetotal, param_grid=parametros)\n",
        "scores = cross_validate(pipetotal, X, y)\n",
        "scores, np.mean(scores['test_score'])\n",
        "\n",
        "\n"
      ],
      "metadata": {
        "colab": {
          "base_uri": "https://localhost:8080/"
        },
        "id": "_EJjfRUPWnVH",
        "outputId": "fa0afa91-11ce-4c4e-a2b6-c3ae5b264509"
      },
      "execution_count": 369,
      "outputs": [
        {
          "output_type": "stream",
          "name": "stderr",
          "text": [
            "/usr/local/lib/python3.7/dist-packages/sklearn/model_selection/_split.py:680: UserWarning: The least populated class in y has only 1 members, which is less than n_splits=5.\n",
            "  UserWarning,\n",
            "/usr/local/lib/python3.7/dist-packages/sklearn/model_selection/_split.py:680: UserWarning: The least populated class in y has only 1 members, which is less than n_splits=5.\n",
            "  UserWarning,\n"
          ]
        },
        {
          "output_type": "execute_result",
          "data": {
            "text/plain": [
              "({'fit_time': array([0.13310552, 0.14989948, 0.15391827, 0.14808488, 0.15003014]),\n",
              "  'score_time': array([0.01176023, 0.02257752, 0.01301146, 0.01245928, 0.01271725]),\n",
              "  'test_score': array([0.76923077, 0.83076923, 0.83505155, 0.82989691, 0.82989691])},\n",
              " 0.8189690721649485)"
            ]
          },
          "metadata": {},
          "execution_count": 369
        }
      ]
    },
    {
      "cell_type": "code",
      "source": [
        "from sklearn.neighbors import KNeighborsClassifier\n",
        "\n",
        "pipetotal = Pipeline([\n",
        "        ('preproc', preproc),\n",
        "        ('knn', KNeighborsClassifier())             \n",
        "])\n",
        "from sklearn.model_selection import cross_validate\n",
        "import numpy as np\n",
        "\n",
        "scores = cross_validate(pipetotal, X, y)\n",
        "scores, np.mean(scores['test_score'])\n",
        "\n",
        "from sklearn.model_selection import GridSearchCV\n",
        "parametros = {\n",
        "    'knn__max_depth': [None] + list(range(1,20,2)),\n",
        "    'knn__criterion': ['gini', 'entropy']\n",
        "    }\n",
        "modelo = GridSearchCV(pipetotal, param_grid=parametros)\n",
        "scores = cross_validate(pipetotal, X, y)\n",
        "scores, np.mean(scores['test_score'])"
      ],
      "metadata": {
        "colab": {
          "base_uri": "https://localhost:8080/"
        },
        "id": "561bqTMTepGA",
        "outputId": "f105a25b-d433-42b5-df3b-1ecb3bdd087c"
      },
      "execution_count": 370,
      "outputs": [
        {
          "output_type": "stream",
          "name": "stderr",
          "text": [
            "/usr/local/lib/python3.7/dist-packages/sklearn/model_selection/_split.py:680: UserWarning: The least populated class in y has only 1 members, which is less than n_splits=5.\n",
            "  UserWarning,\n",
            "/usr/local/lib/python3.7/dist-packages/sklearn/model_selection/_split.py:680: UserWarning: The least populated class in y has only 1 members, which is less than n_splits=5.\n",
            "  UserWarning,\n"
          ]
        },
        {
          "output_type": "execute_result",
          "data": {
            "text/plain": [
              "({'fit_time': array([0.03489876, 0.02818966, 0.02479553, 0.02541971, 0.02623081]),\n",
              "  'score_time': array([0.03048682, 0.024261  , 0.02451348, 0.03591204, 0.02437162]),\n",
              "  'test_score': array([0.35384615, 0.51794872, 0.53092784, 0.56185567, 0.45876289])},\n",
              " 0.48466825270948977)"
            ]
          },
          "metadata": {},
          "execution_count": 370
        }
      ]
    },
    {
      "cell_type": "code",
      "source": [
        "from sklearn.linear_model import Perceptron\n",
        "\n",
        "pipetotal = Pipeline([\n",
        "        ('preproc', preproc),\n",
        "        ('perceptron', Perceptron())             \n",
        "])\n",
        "from sklearn.model_selection import cross_validate\n",
        "import numpy as np\n",
        "\n",
        "scores = cross_validate(pipetotal, X, y)\n",
        "scores, np.mean(scores['test_score'])\n",
        "\n",
        "from sklearn.model_selection import GridSearchCV\n",
        "parametros = {\n",
        "    'perceptron__max_depth': [None] + list(range(1,20,2)),\n",
        "    'perceptron__criterion': ['gini', 'entropy']\n",
        "    }\n",
        "modelo = GridSearchCV(pipetotal, param_grid=parametros)\n",
        "scores = cross_validate(pipetotal, X, y)\n",
        "scores, np.mean(scores['test_score'])"
      ],
      "metadata": {
        "colab": {
          "base_uri": "https://localhost:8080/"
        },
        "id": "pLNoTneffC8b",
        "outputId": "bf05fd26-e0e6-415a-efb3-553ea62fe479"
      },
      "execution_count": 371,
      "outputs": [
        {
          "output_type": "stream",
          "name": "stderr",
          "text": [
            "/usr/local/lib/python3.7/dist-packages/sklearn/model_selection/_split.py:680: UserWarning: The least populated class in y has only 1 members, which is less than n_splits=5.\n",
            "  UserWarning,\n",
            "/usr/local/lib/python3.7/dist-packages/sklearn/model_selection/_split.py:680: UserWarning: The least populated class in y has only 1 members, which is less than n_splits=5.\n",
            "  UserWarning,\n"
          ]
        },
        {
          "output_type": "execute_result",
          "data": {
            "text/plain": [
              "({'fit_time': array([0.24569035, 0.25804043, 0.26061583, 0.24152637, 0.25204682]),\n",
              "  'score_time': array([0.01268554, 0.01382136, 0.01556182, 0.01271081, 0.01298594]),\n",
              "  'test_score': array([0.52307692, 0.71282051, 0.72680412, 0.75257732, 0.68556701])},\n",
              " 0.6801691779011367)"
            ]
          },
          "metadata": {},
          "execution_count": 371
        }
      ]
    },
    {
      "cell_type": "code",
      "source": [
        "from sklearn.linear_model import LogisticRegression\n",
        "\n",
        "pipetotal = Pipeline([\n",
        "        ('preproc', preproc),\n",
        "        ('logisticreg', LogisticRegression())             \n",
        "])\n",
        "from sklearn.model_selection import cross_validate\n",
        "import numpy as np\n",
        "\n",
        "scores = cross_validate(pipetotal, X, y)\n",
        "scores, np.mean(scores['test_score'])\n",
        "\n",
        "from sklearn.model_selection import GridSearchCV\n",
        "parametros = {\n",
        "    'logisticreg__max_depth': [None] + list(range(1,20,2)),\n",
        "    'logisticreg__criterion': ['gini', 'entropy']\n",
        "    }\n",
        "modelo = GridSearchCV(pipetotal, param_grid=parametros)\n",
        "scores = cross_validate(pipetotal, X, y)\n",
        "scores, np.mean(scores['test_score'])"
      ],
      "metadata": {
        "colab": {
          "base_uri": "https://localhost:8080/"
        },
        "id": "cDPQyyWSfXVi",
        "outputId": "33038803-5e4e-4b70-837c-69df5ed410e4"
      },
      "execution_count": 372,
      "outputs": [
        {
          "output_type": "stream",
          "name": "stderr",
          "text": [
            "/usr/local/lib/python3.7/dist-packages/sklearn/model_selection/_split.py:680: UserWarning: The least populated class in y has only 1 members, which is less than n_splits=5.\n",
            "  UserWarning,\n",
            "/usr/local/lib/python3.7/dist-packages/sklearn/model_selection/_split.py:680: UserWarning: The least populated class in y has only 1 members, which is less than n_splits=5.\n",
            "  UserWarning,\n"
          ]
        },
        {
          "output_type": "execute_result",
          "data": {
            "text/plain": [
              "({'fit_time': array([7.76495457, 8.26644158, 7.80328798, 7.82895803, 7.82880473]),\n",
              "  'score_time': array([0.02248645, 0.04570866, 0.020293  , 0.01970506, 0.02562261]),\n",
              "  'test_score': array([0.69230769, 0.79487179, 0.75257732, 0.80412371, 0.75773196])},\n",
              " 0.7603224953740417)"
            ]
          },
          "metadata": {},
          "execution_count": 372
        }
      ]
    },
    {
      "cell_type": "code",
      "source": [
        "from sklearn.ensemble import RandomForestClassifier\n",
        "\n",
        "pipetotal = Pipeline([\n",
        "        ('preproc', preproc),\n",
        "        ('randonf', RandomForestClassifier())             \n",
        "])\n",
        "from sklearn.model_selection import cross_validate\n",
        "import numpy as np\n",
        "\n",
        "scores = cross_validate(pipetotal, X, y)\n",
        "scores, np.mean(scores['test_score'])\n",
        "\n",
        "from sklearn.model_selection import GridSearchCV\n",
        "parametros = {\n",
        "    'randonf__max_depth': [None] + list(range(1,20,2)),\n",
        "    'randonf__criterion': ['gini', 'entropy']\n",
        "    }\n",
        "modelo = GridSearchCV(pipetotal, param_grid=parametros)\n",
        "scores = cross_validate(pipetotal, X, y)\n",
        "scores, np.mean(scores['test_score'])"
      ],
      "metadata": {
        "colab": {
          "base_uri": "https://localhost:8080/"
        },
        "id": "enPvq4lQ2CwZ",
        "outputId": "d68e9330-55a7-4db5-ab24-1fec838c77f4"
      },
      "execution_count": 373,
      "outputs": [
        {
          "output_type": "stream",
          "name": "stderr",
          "text": [
            "/usr/local/lib/python3.7/dist-packages/sklearn/model_selection/_split.py:680: UserWarning: The least populated class in y has only 1 members, which is less than n_splits=5.\n",
            "  UserWarning,\n",
            "/usr/local/lib/python3.7/dist-packages/sklearn/model_selection/_split.py:680: UserWarning: The least populated class in y has only 1 members, which is less than n_splits=5.\n",
            "  UserWarning,\n"
          ]
        },
        {
          "output_type": "execute_result",
          "data": {
            "text/plain": [
              "({'fit_time': array([0.67129922, 0.7481482 , 0.63840628, 0.66579199, 0.67068958]),\n",
              "  'score_time': array([0.08093834, 0.05889773, 0.05270219, 0.0570817 , 0.0559516 ]),\n",
              "  'test_score': array([0.79487179, 0.82564103, 0.80412371, 0.82474227, 0.81443299])},\n",
              " 0.812762357916997)"
            ]
          },
          "metadata": {},
          "execution_count": 373
        }
      ]
    }
  ]
}